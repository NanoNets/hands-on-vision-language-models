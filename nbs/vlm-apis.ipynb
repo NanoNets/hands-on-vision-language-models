{
 "cells": [
  {
   "cell_type": "code",
   "execution_count": 1,
   "id": "a32ac72e-4d61-49a6-a7bf-03e4ee07fa91",
   "metadata": {},
   "outputs": [
    {
     "name": "stdout",
     "output_type": "stream",
     "text": [
      "env: AD_SHOW_FULL_STRINGS=1\n",
      "env: OPENAI_API_KEY=XXX\n",
      "env: GEMINI_API_KEY=XXX\n"
     ]
    }
   ],
   "source": [
    "%reload_ext autoreload\n",
    "%autoreload 2\n",
    "%env AD_SHOW_FULL_STRINGS=1\n",
    "from torch_snippets import *\n",
    "\n",
    "%env OPENAI_API_KEY=XXX\n",
    "%env GEMINI_API_KEY=XXX"
   ]
  },
  {
   "cell_type": "code",
   "execution_count": 2,
   "id": "7613cd85-9b83-4f3a-94cd-c9e813f8c81e",
   "metadata": {},
   "outputs": [],
   "source": [
    "sys.path.append('/Users/yeshwanth/Code/Nanonets/hands-on-vision-language-models/src')"
   ]
  },
  {
   "cell_type": "code",
   "execution_count": 3,
   "id": "a7b15062-6e5c-4622-86ba-0f30e2b930b2",
   "metadata": {},
   "outputs": [],
   "source": [
    "from vlm import GPT4oMini, Gemini, Florence2"
   ]
  },
  {
   "cell_type": "code",
   "execution_count": 4,
   "id": "7107d335-43cf-46c2-a747-4e03408c5a87",
   "metadata": {},
   "outputs": [],
   "source": [
    "gpt4o = GPT4oMini(token=os.environ[\"OPENAI_API_KEY\"])\n",
    "gemini = Gemini(token=os.environ[\"GEMINI_API_KEY\"])\n",
    "florence = Florence2()"
   ]
  },
  {
   "cell_type": "code",
   "execution_count": 5,
   "id": "e8448ca1-b169-4342-8744-d114b295a375",
   "metadata": {},
   "outputs": [],
   "source": [
    "image = '/Users/yeshwanth/Desktop/1000496-2147404800-1.jpeg'\n",
    "prompt = 'what is the text underneath the barcode?'"
   ]
  },
  {
   "cell_type": "code",
   "execution_count": null,
   "id": "8928c61a-a086-48e6-92cb-7a1e1fec62ce",
   "metadata": {},
   "outputs": [],
   "source": [
    "responses = AD(\n",
    "    gpt = gpt4o(image, prompt),\n",
    "    gemini = gemini(image, prompt)\n",
    ")"
   ]
  },
  {
   "cell_type": "code",
   "execution_count": 19,
   "id": "d8022f79-d5b9-47cf-a2cc-658d2f7d4964",
   "metadata": {},
   "outputs": [
    {
     "name": "stdout",
     "output_type": "stream",
     "text": [
      "env: AD_SHOW_FULL_STRINGS=1\n"
     ]
    },
    {
     "data": {
      "text/plain": [
       "\n",
       "```↯ AttrDict ↯\n",
       "gpt - ↓\n",
       "  ```\n",
       "  The text underneath the barcode reads: \n",
       "  \n",
       "  \"1670-1000496\" \n",
       "  \n",
       "  This may be a reference or identifier related to the document.\n",
       "  ``` (🏷️ Multiline str)\n",
       "gemini - 1670-SO-78384 (🏷️ str)\n",
       "\n",
       "```"
      ]
     },
     "execution_count": 19,
     "metadata": {},
     "output_type": "execute_result"
    }
   ],
   "source": [
    "responses"
   ]
  },
  {
   "cell_type": "code",
   "execution_count": null,
   "id": "79d91e34-4667-4af6-82d2-61a11c187dcc",
   "metadata": {},
   "outputs": [],
   "source": []
  }
 ],
 "metadata": {
  "kernelspec": {
   "display_name": "Python 3 (ipykernel)",
   "language": "python",
   "name": "python3"
  },
  "language_info": {
   "codemirror_mode": {
    "name": "ipython",
    "version": 3
   },
   "file_extension": ".py",
   "mimetype": "text/x-python",
   "name": "python",
   "nbconvert_exporter": "python",
   "pygments_lexer": "ipython3",
   "version": "3.12.4"
  }
 },
 "nbformat": 4,
 "nbformat_minor": 5
}
