{
 "cells": [
  {
   "cell_type": "code",
   "execution_count": 1,
   "id": "a32ac72e-4d61-49a6-a7bf-03e4ee07fa91",
   "metadata": {
    "execution": {
     "iopub.execute_input": "2024-09-20T00:05:52.289066Z",
     "iopub.status.busy": "2024-09-20T00:05:52.288791Z",
     "iopub.status.idle": "2024-09-20T00:05:53.700334Z",
     "shell.execute_reply": "2024-09-20T00:05:53.693799Z",
     "shell.execute_reply.started": "2024-09-20T00:05:52.289045Z"
    }
   },
   "outputs": [
    {
     "name": "stdout",
     "output_type": "stream",
     "text": [
      "env: AD_SHOW_FULL_STRINGS=1\n"
     ]
    }
   ],
   "source": [
    "%reload_ext autoreload\n",
    "%autoreload 2\n",
    "%env AD_SHOW_FULL_STRINGS=1\n",
    "from torch_snippets import *\n",
    "from dotenv import load_dotenv"
   ]
  },
  {
   "cell_type": "code",
   "execution_count": 2,
   "id": "7613cd85-9b83-4f3a-94cd-c9e813f8c81e",
   "metadata": {
    "execution": {
     "iopub.execute_input": "2024-09-20T00:05:53.735758Z",
     "iopub.status.busy": "2024-09-20T00:05:53.735382Z",
     "iopub.status.idle": "2024-09-20T00:05:53.810973Z",
     "shell.execute_reply": "2024-09-20T00:05:53.801861Z",
     "shell.execute_reply.started": "2024-09-20T00:05:53.735722Z"
    }
   },
   "outputs": [
    {
     "data": {
      "text/plain": [
       "True"
      ]
     },
     "execution_count": 2,
     "metadata": {},
     "output_type": "execute_result"
    }
   ],
   "source": [
    "sys.path.append('../src/')\n",
    "load_dotenv('../.env')"
   ]
  },
  {
   "cell_type": "code",
   "execution_count": 3,
   "id": "a7b15062-6e5c-4622-86ba-0f30e2b930b2",
   "metadata": {
    "execution": {
     "iopub.execute_input": "2024-09-20T00:05:53.865728Z",
     "iopub.status.busy": "2024-09-20T00:05:53.865393Z",
     "iopub.status.idle": "2024-09-20T00:06:00.551882Z",
     "shell.execute_reply": "2024-09-20T00:06:00.551088Z",
     "shell.execute_reply.started": "2024-09-20T00:05:53.865694Z"
    }
   },
   "outputs": [],
   "source": [
    "from vlm import GPT4oMini, Gemini, Florence2, Qwen2"
   ]
  },
  {
   "cell_type": "code",
   "execution_count": 17,
   "id": "7107d335-43cf-46c2-a747-4e03408c5a87",
   "metadata": {
    "execution": {
     "iopub.execute_input": "2024-09-20T00:12:48.312507Z",
     "iopub.status.busy": "2024-09-20T00:12:48.312081Z",
     "iopub.status.idle": "2024-09-20T00:13:11.629193Z",
     "shell.execute_reply": "2024-09-20T00:13:11.628251Z",
     "shell.execute_reply.started": "2024-09-20T00:12:48.312480Z"
    }
   },
   "outputs": [
    {
     "name": "stderr",
     "output_type": "stream",
     "text": [
      "/home/paperspace/miniconda3/envs/vlm/lib/python3.12/site-packages/transformers/tokenization_utils_base.py:1617: FutureWarning: `clean_up_tokenization_spaces` was not set. It will be set to `True` by default. This behavior will be deprecated in transformers v4.45, and will be then set to `False` by default. For more details check this issue: https://github.com/huggingface/transformers/issues/31884\n",
      "  warnings.warn(\n",
      "Unrecognized keys in `rope_scaling` for 'rope_type'='default': {'mrope_section'}\n"
     ]
    },
    {
     "data": {
      "application/vnd.jupyter.widget-view+json": {
       "model_id": "ab6d3a292c814b6c96bdc55eb744cfea",
       "version_major": 2,
       "version_minor": 0
      },
      "text/plain": [
       "Loading checkpoint shards:   0%|          | 0/2 [00:00<?, ?it/s]"
      ]
     },
     "metadata": {},
     "output_type": "display_data"
    },
    {
     "name": "stderr",
     "output_type": "stream",
     "text": [
      "Some parameters are on the meta device because they were offloaded to the cpu.\n",
      "Unrecognized keys in `rope_scaling` for 'rope_type'='default': {'mrope_section'}\n"
     ]
    },
    {
     "data": {
      "application/vnd.jupyter.widget-view+json": {
       "model_id": "e8d646869b924854bc303f903ca371da",
       "version_major": 2,
       "version_minor": 0
      },
      "text/plain": [
       "Loading checkpoint shards:   0%|          | 0/2 [00:00<?, ?it/s]"
      ]
     },
     "metadata": {},
     "output_type": "display_data"
    }
   ],
   "source": [
    "gpt4o = GPT4oMini(token=os.environ[\"OPENAI_API_KEY\"])\n",
    "gemini = Gemini(token=os.environ[\"GEMINI_API_KEY\"])\n",
    "florence = Florence2()\n",
    "qwen2 = Qwen2()"
   ]
  },
  {
   "cell_type": "code",
   "execution_count": 5,
   "id": "e8448ca1-b169-4342-8744-d114b295a375",
   "metadata": {
    "execution": {
     "iopub.execute_input": "2024-09-20T00:06:05.346119Z",
     "iopub.status.busy": "2024-09-20T00:06:05.343812Z",
     "iopub.status.idle": "2024-09-20T00:06:05.406946Z",
     "shell.execute_reply": "2024-09-20T00:06:05.399886Z",
     "shell.execute_reply.started": "2024-09-20T00:06:05.346077Z"
    }
   },
   "outputs": [],
   "source": [
    "# image = '/Users/yeshwanth/Desktop/1000496-2147404800-1.jpeg'\n",
    "image = '/home/paperspace/tmp/debug-2.jpeg'\n",
    "task_prompt = \"<OCR_WITH_REGION>\"\n",
    "prompt = 'what is the stock value?'"
   ]
  },
  {
   "cell_type": "code",
   "execution_count": 18,
   "id": "110cd3c2-a90e-4c79-a7b3-5e490288794b",
   "metadata": {
    "execution": {
     "iopub.execute_input": "2024-09-20T00:13:17.948795Z",
     "iopub.status.busy": "2024-09-20T00:13:17.948061Z",
     "iopub.status.idle": "2024-09-20T00:13:44.480036Z",
     "shell.execute_reply": "2024-09-20T00:13:44.479284Z",
     "shell.execute_reply.started": "2024-09-20T00:13:17.948762Z"
    }
   },
   "outputs": [
    {
     "name": "stdout",
     "output_type": "stream",
     "text": [
      "{'input_ids': tensor[1, 13] i64 x∈[0, 22486] μ=2.999e+03 σ=6.376e+03 cuda:0, 'attention_mask': tensor[1, 13] i64 x∈[1, 1] μ=1.000 σ=0. cuda:0, 'pixel_values': tensor[1, 3, 768, 768] f16 n=1769472 (3.4Mb) x∈[-2.117, 2.641] μ=1.765 σ=1.267 cuda:0}\n"
     ]
    }
   ],
   "source": [
    "responses = AD(\n",
    "    gpt4o=gpt4o(image, prompt),\n",
    "    gemini=gemini(image, prompt),\n",
    "    qwen2=qwen2(image, prompt),\n",
    "    florence=florence(image, task_prompt),\n",
    ")\n"
   ]
  },
  {
   "cell_type": "code",
   "execution_count": 21,
   "id": "f2d3e154-479a-40b6-9b26-a7c079b9fb74",
   "metadata": {
    "execution": {
     "iopub.execute_input": "2024-09-20T00:15:06.735975Z",
     "iopub.status.busy": "2024-09-20T00:15:06.735693Z",
     "iopub.status.idle": "2024-09-20T00:15:07.212356Z",
     "shell.execute_reply": "2024-09-20T00:15:07.197475Z",
     "shell.execute_reply.started": "2024-09-20T00:15:06.735952Z"
    }
   },
   "outputs": [
    {
     "data": {
      "text/plain": [
       "\n",
       "```↯ AttrDict ↯\n",
       "gpt4o - ↓\n",
       "  ```\n",
       "  The stock values listed in your document are as follows:\n",
       "  \n",
       "  1. **HL Stocks & Shares ISA:** \n",
       "     - Total value: **£344,403.40**\n",
       "  \n",
       "  2. **HL SIPP:** \n",
       "     - Total value: **£1,176,925.47** \n",
       "  \n",
       "  If you need specific stock prices or additional details, please let me know!\n",
       "  ``` (🏷️ Multiline str)\n",
       "gemini - The stock value is £344,401. (🏷️ str)\n",
       "qwen2[]\n",
       "  0 - The stock value for the HL Stocks & Shares ISA is £344,401. (🏷️ str)\n",
       "florence\n",
       "  <OD>\n",
       "    bboxes[]\n",
       "      0[]\n",
       "        0 - 163.1219940185547 (🏷️ float)\n",
       "        1 - 1308.199951171875 (🏷️ float)\n",
       "        2 - 3351.893798828125 (🏷️ float)\n",
       "        3 - 1841.4000244140625 (🏷️ float)\n",
       "    labels[]\n",
       "      0 - scoreboard (🏷️ str)\n",
       "\n",
       "```"
      ]
     },
     "execution_count": 21,
     "metadata": {},
     "output_type": "execute_result"
    }
   ],
   "source": [
    "responses"
   ]
  },
  {
   "cell_type": "code",
   "execution_count": null,
   "id": "074daaff-ec7a-4ab5-9fed-d171fc46908c",
   "metadata": {},
   "outputs": [],
   "source": []
  }
 ],
 "metadata": {
  "kernelspec": {
   "display_name": "Python 3 (ipykernel)",
   "language": "python",
   "name": "python3"
  },
  "language_info": {
   "codemirror_mode": {
    "name": "ipython",
    "version": 3
   },
   "file_extension": ".py",
   "mimetype": "text/x-python",
   "name": "python",
   "nbconvert_exporter": "python",
   "pygments_lexer": "ipython3",
   "version": "3.12.5"
  }
 },
 "nbformat": 4,
 "nbformat_minor": 5
}
