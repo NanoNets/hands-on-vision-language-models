{
 "cells": [
  {
   "cell_type": "code",
   "execution_count": 1,
   "id": "d99152a1-13c4-4e23-a8f1-0d1306d32cbd",
   "metadata": {
    "execution": {
     "iopub.execute_input": "2024-09-22T16:41:44.235774Z",
     "iopub.status.busy": "2024-09-22T16:41:44.234367Z",
     "iopub.status.idle": "2024-09-22T16:41:44.957428Z",
     "shell.execute_reply": "2024-09-22T16:41:44.956556Z",
     "shell.execute_reply.started": "2024-09-22T16:41:44.235746Z"
    }
   },
   "outputs": [
    {
     "name": "stdout",
     "output_type": "stream",
     "text": [
      "env: AD_MAX_ITEMS=10\n"
     ]
    }
   ],
   "source": [
    "%reload_ext autoreload\n",
    "%autoreload 2\n",
    "# %env CUDA_VISIBLE_DEVICES=\n",
    "%env AD_MAX_ITEMS=10\n",
    "from torch_snippets import *\n",
    "from dotenv import load_dotenv\n",
    "DF = pd.DataFrame"
   ]
  },
  {
   "cell_type": "code",
   "execution_count": 2,
   "id": "6b55956f-5bb4-4e88-9475-5cb61a5762e4",
   "metadata": {
    "execution": {
     "iopub.execute_input": "2024-09-22T16:41:44.959715Z",
     "iopub.status.busy": "2024-09-22T16:41:44.958873Z",
     "iopub.status.idle": "2024-09-22T16:41:44.974757Z",
     "shell.execute_reply": "2024-09-22T16:41:44.974058Z",
     "shell.execute_reply.started": "2024-09-22T16:41:44.959692Z"
    }
   },
   "outputs": [],
   "source": [
    "sys.path.append('../src/')\n",
    "assert load_dotenv('../.env')"
   ]
  },
  {
   "cell_type": "code",
   "execution_count": 3,
   "id": "ad2c4859-db9b-4ba3-abb5-101a66748166",
   "metadata": {
    "execution": {
     "iopub.execute_input": "2024-09-22T16:41:53.940540Z",
     "iopub.status.busy": "2024-09-22T16:41:53.940235Z",
     "iopub.status.idle": "2024-09-22T16:41:54.152667Z",
     "shell.execute_reply": "2024-09-22T16:41:54.152031Z",
     "shell.execute_reply.started": "2024-09-22T16:41:53.940516Z"
    }
   },
   "outputs": [],
   "source": [
    "from vlm import Qwen2, GPT4oMini\n",
    "from datasets import load_dataset"
   ]
  },
  {
   "cell_type": "code",
   "execution_count": 4,
   "id": "72f52555-4e0b-4045-9c13-aed4accca50d",
   "metadata": {
    "execution": {
     "iopub.execute_input": "2024-09-22T16:41:56.627475Z",
     "iopub.status.busy": "2024-09-22T16:41:56.626326Z",
     "iopub.status.idle": "2024-09-22T16:41:57.583543Z",
     "shell.execute_reply": "2024-09-22T16:41:57.582741Z",
     "shell.execute_reply.started": "2024-09-22T16:41:56.627443Z"
    }
   },
   "outputs": [],
   "source": [
    "ds = load_dataset('sizhkhy/SROIE', split='test')"
   ]
  },
  {
   "cell_type": "code",
   "execution_count": 5,
   "id": "9ad59656-d5b7-4bcf-8dc6-8ab20a24c1bc",
   "metadata": {
    "execution": {
     "iopub.execute_input": "2024-09-22T16:42:04.518553Z",
     "iopub.status.busy": "2024-09-22T16:42:04.517941Z",
     "iopub.status.idle": "2024-09-22T16:42:10.858902Z",
     "shell.execute_reply": "2024-09-22T16:42:10.858152Z",
     "shell.execute_reply.started": "2024-09-22T16:42:04.518527Z"
    }
   },
   "outputs": [
    {
     "name": "stderr",
     "output_type": "stream",
     "text": [
      "Unrecognized keys in `rope_scaling` for 'rope_type'='default': {'mrope_section'}\n",
      "`Qwen2VLRotaryEmbedding` can now be fully parameterized by passing the model config through the `config` argument. All other arguments will be removed in v4.46\n"
     ]
    },
    {
     "data": {
      "application/vnd.jupyter.widget-view+json": {
       "model_id": "6476c126983c4c2b827e5012f4701989",
       "version_major": 2,
       "version_minor": 0
      },
      "text/plain": [
       "Loading checkpoint shards:   0%|          | 0/2 [00:00<?, ?it/s]"
      ]
     },
     "metadata": {},
     "output_type": "display_data"
    },
    {
     "name": "stderr",
     "output_type": "stream",
     "text": [
      "Unrecognized keys in `rope_scaling` for 'rope_type'='default': {'mrope_section'}\n",
      "You are attempting to use Flash Attention 2.0 without specifying a torch dtype. This might lead to unexpected behaviour\n"
     ]
    },
    {
     "data": {
      "application/vnd.jupyter.widget-view+json": {
       "model_id": "6811fee89c4c4290a5284cc6c47a68e8",
       "version_major": 2,
       "version_minor": 0
      },
      "text/plain": [
       "Loading checkpoint shards:   0%|          | 0/2 [00:00<?, ?it/s]"
      ]
     },
     "metadata": {},
     "output_type": "display_data"
    }
   ],
   "source": [
    "qwen = Qwen2()\n",
    "gpt = GPT4oMini()"
   ]
  },
  {
   "cell_type": "code",
   "execution_count": 6,
   "id": "8109a6b2-c3e7-4087-9103-b4238b3f4ec3",
   "metadata": {
    "execution": {
     "iopub.execute_input": "2024-09-22T16:42:10.860432Z",
     "iopub.status.busy": "2024-09-22T16:42:10.860208Z",
     "iopub.status.idle": "2024-09-22T16:42:10.910742Z",
     "shell.execute_reply": "2024-09-22T16:42:10.910152Z",
     "shell.execute_reply.started": "2024-09-22T16:42:10.860414Z"
    }
   },
   "outputs": [
    {
     "name": "stdout",
     "output_type": "stream",
     "text": [
      "What are the ADDRESS,COMPANY,DATE,TOTAL in the given image. Give me as a json\n"
     ]
    }
   ],
   "source": [
    "fields = ','.join(ds[0]['fields'].keys())\n",
    "prompt = f'What are the {fields} in the given image. Give me as a json'\n",
    "print(prompt)"
   ]
  },
  {
   "cell_type": "code",
   "execution_count": 7,
   "id": "3b7c56ad-e42c-4edf-80de-5bde7aea1c53",
   "metadata": {
    "execution": {
     "iopub.execute_input": "2024-09-22T16:42:37.937097Z",
     "iopub.status.busy": "2024-09-22T16:42:37.936476Z",
     "iopub.status.idle": "2024-09-22T16:42:37.982050Z",
     "shell.execute_reply": "2024-09-22T16:42:37.981013Z",
     "shell.execute_reply.started": "2024-09-22T16:42:37.937072Z"
    }
   },
   "outputs": [],
   "source": [
    "import json\n",
    "\n",
    "qwen_db = P('../db/SROIE/qwen/')\n",
    "gpt_db = P('../db/SROIE/gpt4omini')\n",
    "gemini_db = P('../db/SROIE/gemini')\n"
   ]
  },
  {
   "cell_type": "code",
   "execution_count": 11,
   "id": "2a32d09c-5993-48d9-b171-c4cb07cb253c",
   "metadata": {
    "execution": {
     "iopub.execute_input": "2024-09-22T16:43:59.708030Z",
     "iopub.status.busy": "2024-09-22T16:43:59.707341Z",
     "iopub.status.idle": "2024-09-22T16:46:20.039786Z",
     "shell.execute_reply": "2024-09-22T16:46:20.038939Z",
     "shell.execute_reply.started": "2024-09-22T16:43:59.708004Z"
    }
   },
   "outputs": [
    {
     "name": "stdout",
     "output_type": "stream",
     "text": [
      "22/347 (33.53s - 495.30s remaining - 1.52 s/iter)           \r"
     ]
    },
    {
     "data": {
      "text/html": [
       "<pre style=\"white-space:pre;overflow-x:auto;line-height:normal;font-family:Menlo,'DejaVu Sans Mono',consolas,'Courier New',monospace\"><span style=\"color: #7fbfbf; text-decoration-color: #7fbfbf\">[09/22/24 16:44:36] </span><span style=\"color: #bf7f7f; text-decoration-color: #bf7f7f\">WARNING </span> Error Expecting value: line <span style=\"color: #008080; text-decoration-color: #008080; font-weight: bold\">1</span> column <span style=\"color: #008080; text-decoration-color: #008080; font-weight: bold\">1</span> <span style=\"font-weight: bold\">(</span>char <span style=\"color: #008080; text-decoration-color: #008080; font-weight: bold\">0</span><span style=\"font-weight: bold\">)</span> @ <span style=\"color: #008080; text-decoration-color: #008080; font-weight: bold\">22</span>::Traceback <span style=\"font-weight: bold\">(</span>most recent call last<span style=\"font-weight: bold\">)</span>:                                  <a href=\"file:///tmp/ipykernel_19763/3805582664.py:14\" target=\"_blank\"><span style=\"color: #7f7f7f; text-decoration-color: #7f7f7f\">3805582664.py</span></a><span style=\"color: #7f7f7f; text-decoration-color: #7f7f7f\">:</span><a href=\"file:///tmp/ipykernel_19763/3805582664.py:14#main:14\" target=\"_blank\"><span style=\"color: #7f7f7f; text-decoration-color: #7f7f7f\">main:14</span></a>\n",
       "<span style=\"color: #7fbfbf; text-decoration-color: #7fbfbf\">                    </span>           File <span style=\"color: #008000; text-decoration-color: #008000\">\"/tmp/ipykernel_19763/3805582664.py\"</span>, line <span style=\"color: #008080; text-decoration-color: #008080; font-weight: bold\">12</span>, in main                                                             <span style=\"color: #7f7f7f; text-decoration-color: #7f7f7f\">                     </span>\n",
       "<span style=\"color: #7fbfbf; text-decoration-color: #7fbfbf\">                    </span>             <span style=\"color: #800080; text-decoration-color: #800080; font-weight: bold\">write_json</span><span style=\"font-weight: bold\">(</span><span style=\"color: #800080; text-decoration-color: #800080; font-weight: bold\">json.loads</span><span style=\"font-weight: bold\">(</span>pred<span style=\"font-weight: bold\">)</span>, _to<span style=\"font-weight: bold\">)</span>                                                                                     <span style=\"color: #7f7f7f; text-decoration-color: #7f7f7f\">                     </span>\n",
       "<span style=\"color: #7fbfbf; text-decoration-color: #7fbfbf\">                    </span>                        ^^^^^^^^^^^^^^^^                                                                                           <span style=\"color: #7f7f7f; text-decoration-color: #7f7f7f\">                     </span>\n",
       "<span style=\"color: #7fbfbf; text-decoration-color: #7fbfbf\">                    </span>           File <span style=\"color: #008000; text-decoration-color: #008000\">\"/home/paperspace/miniconda3/envs/vlm/lib/python3.12/json/__init__.py\"</span>, line <span style=\"color: #008080; text-decoration-color: #008080; font-weight: bold\">346</span>, in loads                         <span style=\"color: #7f7f7f; text-decoration-color: #7f7f7f\">                     </span>\n",
       "<span style=\"color: #7fbfbf; text-decoration-color: #7fbfbf\">                    </span>             return <span style=\"color: #800080; text-decoration-color: #800080; font-weight: bold\">_default_decoder.decode</span><span style=\"font-weight: bold\">(</span>s<span style=\"font-weight: bold\">)</span>                                                                                     <span style=\"color: #7f7f7f; text-decoration-color: #7f7f7f\">                     </span>\n",
       "<span style=\"color: #7fbfbf; text-decoration-color: #7fbfbf\">                    </span>                    ^^^^^^^^^^^^^^^^^^^^^^^^^^                                                                                     <span style=\"color: #7f7f7f; text-decoration-color: #7f7f7f\">                     </span>\n",
       "<span style=\"color: #7fbfbf; text-decoration-color: #7fbfbf\">                    </span>           File <span style=\"color: #008000; text-decoration-color: #008000\">\"/home/paperspace/miniconda3/envs/vlm/lib/python3.12/json/decoder.py\"</span>, line <span style=\"color: #008080; text-decoration-color: #008080; font-weight: bold\">337</span>, in decode                         <span style=\"color: #7f7f7f; text-decoration-color: #7f7f7f\">                     </span>\n",
       "<span style=\"color: #7fbfbf; text-decoration-color: #7fbfbf\">                    </span>             obj, end = <span style=\"color: #800080; text-decoration-color: #800080; font-weight: bold\">self.raw_decode</span><span style=\"font-weight: bold\">(</span>s, <span style=\"color: #808000; text-decoration-color: #808000\">idx</span>=<span style=\"color: #800080; text-decoration-color: #800080; font-weight: bold\">_w</span><span style=\"font-weight: bold\">(</span>s, <span style=\"color: #008080; text-decoration-color: #008080; font-weight: bold\">0</span><span style=\"font-weight: bold\">)</span><span style=\"color: #800080; text-decoration-color: #800080; font-weight: bold\">.end</span><span style=\"font-weight: bold\">())</span>                                                                     <span style=\"color: #7f7f7f; text-decoration-color: #7f7f7f\">                     </span>\n",
       "<span style=\"color: #7fbfbf; text-decoration-color: #7fbfbf\">                    </span>                        ^^^^^^^^^^^^^^^^^^^^^^^^^^^^^^^^^^^^^^                                                                     <span style=\"color: #7f7f7f; text-decoration-color: #7f7f7f\">                     </span>\n",
       "<span style=\"color: #7fbfbf; text-decoration-color: #7fbfbf\">                    </span>           File <span style=\"color: #008000; text-decoration-color: #008000\">\"/home/paperspace/miniconda3/envs/vlm/lib/python3.12/json/decoder.py\"</span>, line <span style=\"color: #008080; text-decoration-color: #008080; font-weight: bold\">355</span>, in raw_decode                     <span style=\"color: #7f7f7f; text-decoration-color: #7f7f7f\">                     </span>\n",
       "<span style=\"color: #7fbfbf; text-decoration-color: #7fbfbf\">                    </span>             raise <span style=\"color: #800080; text-decoration-color: #800080; font-weight: bold\">JSONDecodeError</span><span style=\"font-weight: bold\">(</span><span style=\"color: #008000; text-decoration-color: #008000\">\"Expecting value\"</span>, s, err.value<span style=\"font-weight: bold\">)</span> from <span style=\"color: #800080; text-decoration-color: #800080; font-style: italic\">None</span>                                                      <span style=\"color: #7f7f7f; text-decoration-color: #7f7f7f\">                     </span>\n",
       "<span style=\"color: #7fbfbf; text-decoration-color: #7fbfbf\">                    </span>         json.decoder.JSONDecodeError: Expecting value: line <span style=\"color: #008080; text-decoration-color: #008080; font-weight: bold\">1</span> column <span style=\"color: #008080; text-decoration-color: #008080; font-weight: bold\">1</span> <span style=\"font-weight: bold\">(</span>char <span style=\"color: #008080; text-decoration-color: #008080; font-weight: bold\">0</span><span style=\"font-weight: bold\">)</span>                                                   <span style=\"color: #7f7f7f; text-decoration-color: #7f7f7f\">                     </span>\n",
       "<span style=\"color: #7fbfbf; text-decoration-color: #7fbfbf\">                    </span>                                                                                                                                   <span style=\"color: #7f7f7f; text-decoration-color: #7f7f7f\">                     </span>\n",
       "</pre>\n"
      ],
      "text/plain": [
       "\u001b[2;36m[09/22/24 16:44:36]\u001b[0m\u001b[2;36m \u001b[0m\u001b[2;31mWARNING \u001b[0m Error Expecting value: line \u001b[1;36m1\u001b[0m column \u001b[1;36m1\u001b[0m \u001b[1m(\u001b[0mchar \u001b[1;36m0\u001b[0m\u001b[1m)\u001b[0m @ \u001b[1;36m22\u001b[0m::Traceback \u001b[1m(\u001b[0mmost recent call last\u001b[1m)\u001b[0m:                                  \u001b]8;id=364770;file:///tmp/ipykernel_19763/3805582664.py:14\u001b\\\u001b[2m3805582664.py\u001b[0m\u001b]8;;\u001b\\\u001b[2m:\u001b[0m\u001b]8;id=31646;file:///tmp/ipykernel_19763/3805582664.py:14#main:14\u001b\\\u001b[2mmain:14\u001b[0m\u001b]8;;\u001b\\\n",
       "\u001b[2;36m                    \u001b[0m           File \u001b[32m\"/tmp/ipykernel_19763/3805582664.py\"\u001b[0m, line \u001b[1;36m12\u001b[0m, in main                                                             \u001b[2m                     \u001b[0m\n",
       "\u001b[2;36m                    \u001b[0m             \u001b[1;35mwrite_json\u001b[0m\u001b[1m(\u001b[0m\u001b[1;35mjson.loads\u001b[0m\u001b[1m(\u001b[0mpred\u001b[1m)\u001b[0m, _to\u001b[1m)\u001b[0m                                                                                     \u001b[2m                     \u001b[0m\n",
       "\u001b[2;36m                    \u001b[0m                        ^^^^^^^^^^^^^^^^                                                                                           \u001b[2m                     \u001b[0m\n",
       "\u001b[2;36m                    \u001b[0m           File \u001b[32m\"/home/paperspace/miniconda3/envs/vlm/lib/python3.12/json/__init__.py\"\u001b[0m, line \u001b[1;36m346\u001b[0m, in loads                         \u001b[2m                     \u001b[0m\n",
       "\u001b[2;36m                    \u001b[0m             return \u001b[1;35m_default_decoder.decode\u001b[0m\u001b[1m(\u001b[0ms\u001b[1m)\u001b[0m                                                                                     \u001b[2m                     \u001b[0m\n",
       "\u001b[2;36m                    \u001b[0m                    ^^^^^^^^^^^^^^^^^^^^^^^^^^                                                                                     \u001b[2m                     \u001b[0m\n",
       "\u001b[2;36m                    \u001b[0m           File \u001b[32m\"/home/paperspace/miniconda3/envs/vlm/lib/python3.12/json/decoder.py\"\u001b[0m, line \u001b[1;36m337\u001b[0m, in decode                         \u001b[2m                     \u001b[0m\n",
       "\u001b[2;36m                    \u001b[0m             obj, end = \u001b[1;35mself.raw_decode\u001b[0m\u001b[1m(\u001b[0ms, \u001b[33midx\u001b[0m=\u001b[1;35m_w\u001b[0m\u001b[1m(\u001b[0ms, \u001b[1;36m0\u001b[0m\u001b[1m)\u001b[0m\u001b[1;35m.end\u001b[0m\u001b[1m(\u001b[0m\u001b[1m)\u001b[0m\u001b[1m)\u001b[0m                                                                     \u001b[2m                     \u001b[0m\n",
       "\u001b[2;36m                    \u001b[0m                        ^^^^^^^^^^^^^^^^^^^^^^^^^^^^^^^^^^^^^^                                                                     \u001b[2m                     \u001b[0m\n",
       "\u001b[2;36m                    \u001b[0m           File \u001b[32m\"/home/paperspace/miniconda3/envs/vlm/lib/python3.12/json/decoder.py\"\u001b[0m, line \u001b[1;36m355\u001b[0m, in raw_decode                     \u001b[2m                     \u001b[0m\n",
       "\u001b[2;36m                    \u001b[0m             raise \u001b[1;35mJSONDecodeError\u001b[0m\u001b[1m(\u001b[0m\u001b[32m\"Expecting value\"\u001b[0m, s, err.value\u001b[1m)\u001b[0m from \u001b[3;35mNone\u001b[0m                                                      \u001b[2m                     \u001b[0m\n",
       "\u001b[2;36m                    \u001b[0m         json.decoder.JSONDecodeError: Expecting value: line \u001b[1;36m1\u001b[0m column \u001b[1;36m1\u001b[0m \u001b[1m(\u001b[0mchar \u001b[1;36m0\u001b[0m\u001b[1m)\u001b[0m                                                   \u001b[2m                     \u001b[0m\n",
       "\u001b[2;36m                    \u001b[0m                                                                                                                                   \u001b[2m                     \u001b[0m\n"
      ]
     },
     "metadata": {},
     "output_type": "display_data"
    },
    {
     "name": "stdout",
     "output_type": "stream",
     "text": [
      "24/347 (40.45s - 544.34s remaining - 1.69 s/iter)          \r"
     ]
    },
    {
     "data": {
      "text/html": [
       "<pre style=\"white-space:pre;overflow-x:auto;line-height:normal;font-family:Menlo,'DejaVu Sans Mono',consolas,'Courier New',monospace\"><span style=\"color: #7fbfbf; text-decoration-color: #7fbfbf\">[09/22/24 16:44:45] </span><span style=\"color: #bf7f7f; text-decoration-color: #bf7f7f\">WARNING </span> Error Expecting value: line <span style=\"color: #008080; text-decoration-color: #008080; font-weight: bold\">1</span> column <span style=\"color: #008080; text-decoration-color: #008080; font-weight: bold\">1</span> <span style=\"font-weight: bold\">(</span>char <span style=\"color: #008080; text-decoration-color: #008080; font-weight: bold\">0</span><span style=\"font-weight: bold\">)</span> @ <span style=\"color: #008080; text-decoration-color: #008080; font-weight: bold\">24</span>::Traceback <span style=\"font-weight: bold\">(</span>most recent call last<span style=\"font-weight: bold\">)</span>:                                  <a href=\"file:///tmp/ipykernel_19763/3805582664.py:14\" target=\"_blank\"><span style=\"color: #7f7f7f; text-decoration-color: #7f7f7f\">3805582664.py</span></a><span style=\"color: #7f7f7f; text-decoration-color: #7f7f7f\">:</span><a href=\"file:///tmp/ipykernel_19763/3805582664.py:14#main:14\" target=\"_blank\"><span style=\"color: #7f7f7f; text-decoration-color: #7f7f7f\">main:14</span></a>\n",
       "<span style=\"color: #7fbfbf; text-decoration-color: #7fbfbf\">                    </span>           File <span style=\"color: #008000; text-decoration-color: #008000\">\"/tmp/ipykernel_19763/3805582664.py\"</span>, line <span style=\"color: #008080; text-decoration-color: #008080; font-weight: bold\">12</span>, in main                                                             <span style=\"color: #7f7f7f; text-decoration-color: #7f7f7f\">                     </span>\n",
       "<span style=\"color: #7fbfbf; text-decoration-color: #7fbfbf\">                    </span>             <span style=\"color: #800080; text-decoration-color: #800080; font-weight: bold\">write_json</span><span style=\"font-weight: bold\">(</span><span style=\"color: #800080; text-decoration-color: #800080; font-weight: bold\">json.loads</span><span style=\"font-weight: bold\">(</span>pred<span style=\"font-weight: bold\">)</span>, _to<span style=\"font-weight: bold\">)</span>                                                                                     <span style=\"color: #7f7f7f; text-decoration-color: #7f7f7f\">                     </span>\n",
       "<span style=\"color: #7fbfbf; text-decoration-color: #7fbfbf\">                    </span>                        ^^^^^^^^^^^^^^^^                                                                                           <span style=\"color: #7f7f7f; text-decoration-color: #7f7f7f\">                     </span>\n",
       "<span style=\"color: #7fbfbf; text-decoration-color: #7fbfbf\">                    </span>           File <span style=\"color: #008000; text-decoration-color: #008000\">\"/home/paperspace/miniconda3/envs/vlm/lib/python3.12/json/__init__.py\"</span>, line <span style=\"color: #008080; text-decoration-color: #008080; font-weight: bold\">346</span>, in loads                         <span style=\"color: #7f7f7f; text-decoration-color: #7f7f7f\">                     </span>\n",
       "<span style=\"color: #7fbfbf; text-decoration-color: #7fbfbf\">                    </span>             return <span style=\"color: #800080; text-decoration-color: #800080; font-weight: bold\">_default_decoder.decode</span><span style=\"font-weight: bold\">(</span>s<span style=\"font-weight: bold\">)</span>                                                                                     <span style=\"color: #7f7f7f; text-decoration-color: #7f7f7f\">                     </span>\n",
       "<span style=\"color: #7fbfbf; text-decoration-color: #7fbfbf\">                    </span>                    ^^^^^^^^^^^^^^^^^^^^^^^^^^                                                                                     <span style=\"color: #7f7f7f; text-decoration-color: #7f7f7f\">                     </span>\n",
       "<span style=\"color: #7fbfbf; text-decoration-color: #7fbfbf\">                    </span>           File <span style=\"color: #008000; text-decoration-color: #008000\">\"/home/paperspace/miniconda3/envs/vlm/lib/python3.12/json/decoder.py\"</span>, line <span style=\"color: #008080; text-decoration-color: #008080; font-weight: bold\">337</span>, in decode                         <span style=\"color: #7f7f7f; text-decoration-color: #7f7f7f\">                     </span>\n",
       "<span style=\"color: #7fbfbf; text-decoration-color: #7fbfbf\">                    </span>             obj, end = <span style=\"color: #800080; text-decoration-color: #800080; font-weight: bold\">self.raw_decode</span><span style=\"font-weight: bold\">(</span>s, <span style=\"color: #808000; text-decoration-color: #808000\">idx</span>=<span style=\"color: #800080; text-decoration-color: #800080; font-weight: bold\">_w</span><span style=\"font-weight: bold\">(</span>s, <span style=\"color: #008080; text-decoration-color: #008080; font-weight: bold\">0</span><span style=\"font-weight: bold\">)</span><span style=\"color: #800080; text-decoration-color: #800080; font-weight: bold\">.end</span><span style=\"font-weight: bold\">())</span>                                                                     <span style=\"color: #7f7f7f; text-decoration-color: #7f7f7f\">                     </span>\n",
       "<span style=\"color: #7fbfbf; text-decoration-color: #7fbfbf\">                    </span>                        ^^^^^^^^^^^^^^^^^^^^^^^^^^^^^^^^^^^^^^                                                                     <span style=\"color: #7f7f7f; text-decoration-color: #7f7f7f\">                     </span>\n",
       "<span style=\"color: #7fbfbf; text-decoration-color: #7fbfbf\">                    </span>           File <span style=\"color: #008000; text-decoration-color: #008000\">\"/home/paperspace/miniconda3/envs/vlm/lib/python3.12/json/decoder.py\"</span>, line <span style=\"color: #008080; text-decoration-color: #008080; font-weight: bold\">355</span>, in raw_decode                     <span style=\"color: #7f7f7f; text-decoration-color: #7f7f7f\">                     </span>\n",
       "<span style=\"color: #7fbfbf; text-decoration-color: #7fbfbf\">                    </span>             raise <span style=\"color: #800080; text-decoration-color: #800080; font-weight: bold\">JSONDecodeError</span><span style=\"font-weight: bold\">(</span><span style=\"color: #008000; text-decoration-color: #008000\">\"Expecting value\"</span>, s, err.value<span style=\"font-weight: bold\">)</span> from <span style=\"color: #800080; text-decoration-color: #800080; font-style: italic\">None</span>                                                      <span style=\"color: #7f7f7f; text-decoration-color: #7f7f7f\">                     </span>\n",
       "<span style=\"color: #7fbfbf; text-decoration-color: #7fbfbf\">                    </span>         json.decoder.JSONDecodeError: Expecting value: line <span style=\"color: #008080; text-decoration-color: #008080; font-weight: bold\">1</span> column <span style=\"color: #008080; text-decoration-color: #008080; font-weight: bold\">1</span> <span style=\"font-weight: bold\">(</span>char <span style=\"color: #008080; text-decoration-color: #008080; font-weight: bold\">0</span><span style=\"font-weight: bold\">)</span>                                                   <span style=\"color: #7f7f7f; text-decoration-color: #7f7f7f\">                     </span>\n",
       "<span style=\"color: #7fbfbf; text-decoration-color: #7fbfbf\">                    </span>                                                                                                                                   <span style=\"color: #7f7f7f; text-decoration-color: #7f7f7f\">                     </span>\n",
       "</pre>\n"
      ],
      "text/plain": [
       "\u001b[2;36m[09/22/24 16:44:45]\u001b[0m\u001b[2;36m \u001b[0m\u001b[2;31mWARNING \u001b[0m Error Expecting value: line \u001b[1;36m1\u001b[0m column \u001b[1;36m1\u001b[0m \u001b[1m(\u001b[0mchar \u001b[1;36m0\u001b[0m\u001b[1m)\u001b[0m @ \u001b[1;36m24\u001b[0m::Traceback \u001b[1m(\u001b[0mmost recent call last\u001b[1m)\u001b[0m:                                  \u001b]8;id=993625;file:///tmp/ipykernel_19763/3805582664.py:14\u001b\\\u001b[2m3805582664.py\u001b[0m\u001b]8;;\u001b\\\u001b[2m:\u001b[0m\u001b]8;id=460458;file:///tmp/ipykernel_19763/3805582664.py:14#main:14\u001b\\\u001b[2mmain:14\u001b[0m\u001b]8;;\u001b\\\n",
       "\u001b[2;36m                    \u001b[0m           File \u001b[32m\"/tmp/ipykernel_19763/3805582664.py\"\u001b[0m, line \u001b[1;36m12\u001b[0m, in main                                                             \u001b[2m                     \u001b[0m\n",
       "\u001b[2;36m                    \u001b[0m             \u001b[1;35mwrite_json\u001b[0m\u001b[1m(\u001b[0m\u001b[1;35mjson.loads\u001b[0m\u001b[1m(\u001b[0mpred\u001b[1m)\u001b[0m, _to\u001b[1m)\u001b[0m                                                                                     \u001b[2m                     \u001b[0m\n",
       "\u001b[2;36m                    \u001b[0m                        ^^^^^^^^^^^^^^^^                                                                                           \u001b[2m                     \u001b[0m\n",
       "\u001b[2;36m                    \u001b[0m           File \u001b[32m\"/home/paperspace/miniconda3/envs/vlm/lib/python3.12/json/__init__.py\"\u001b[0m, line \u001b[1;36m346\u001b[0m, in loads                         \u001b[2m                     \u001b[0m\n",
       "\u001b[2;36m                    \u001b[0m             return \u001b[1;35m_default_decoder.decode\u001b[0m\u001b[1m(\u001b[0ms\u001b[1m)\u001b[0m                                                                                     \u001b[2m                     \u001b[0m\n",
       "\u001b[2;36m                    \u001b[0m                    ^^^^^^^^^^^^^^^^^^^^^^^^^^                                                                                     \u001b[2m                     \u001b[0m\n",
       "\u001b[2;36m                    \u001b[0m           File \u001b[32m\"/home/paperspace/miniconda3/envs/vlm/lib/python3.12/json/decoder.py\"\u001b[0m, line \u001b[1;36m337\u001b[0m, in decode                         \u001b[2m                     \u001b[0m\n",
       "\u001b[2;36m                    \u001b[0m             obj, end = \u001b[1;35mself.raw_decode\u001b[0m\u001b[1m(\u001b[0ms, \u001b[33midx\u001b[0m=\u001b[1;35m_w\u001b[0m\u001b[1m(\u001b[0ms, \u001b[1;36m0\u001b[0m\u001b[1m)\u001b[0m\u001b[1;35m.end\u001b[0m\u001b[1m(\u001b[0m\u001b[1m)\u001b[0m\u001b[1m)\u001b[0m                                                                     \u001b[2m                     \u001b[0m\n",
       "\u001b[2;36m                    \u001b[0m                        ^^^^^^^^^^^^^^^^^^^^^^^^^^^^^^^^^^^^^^                                                                     \u001b[2m                     \u001b[0m\n",
       "\u001b[2;36m                    \u001b[0m           File \u001b[32m\"/home/paperspace/miniconda3/envs/vlm/lib/python3.12/json/decoder.py\"\u001b[0m, line \u001b[1;36m355\u001b[0m, in raw_decode                     \u001b[2m                     \u001b[0m\n",
       "\u001b[2;36m                    \u001b[0m             raise \u001b[1;35mJSONDecodeError\u001b[0m\u001b[1m(\u001b[0m\u001b[32m\"Expecting value\"\u001b[0m, s, err.value\u001b[1m)\u001b[0m from \u001b[3;35mNone\u001b[0m                                                      \u001b[2m                     \u001b[0m\n",
       "\u001b[2;36m                    \u001b[0m         json.decoder.JSONDecodeError: Expecting value: line \u001b[1;36m1\u001b[0m column \u001b[1;36m1\u001b[0m \u001b[1m(\u001b[0mchar \u001b[1;36m0\u001b[0m\u001b[1m)\u001b[0m                                                   \u001b[2m                     \u001b[0m\n",
       "\u001b[2;36m                    \u001b[0m                                                                                                                                   \u001b[2m                     \u001b[0m\n"
      ]
     },
     "metadata": {},
     "output_type": "display_data"
    },
    {
     "name": "stdout",
     "output_type": "stream",
     "text": [
      "37/347 (94.00s - 787.61s remaining - 2.54 s/iter)          \r"
     ]
    },
    {
     "data": {
      "text/html": [
       "<pre style=\"white-space:pre;overflow-x:auto;line-height:normal;font-family:Menlo,'DejaVu Sans Mono',consolas,'Courier New',monospace\"><span style=\"color: #7fbfbf; text-decoration-color: #7fbfbf\">[09/22/24 16:45:36] </span><span style=\"color: #bf7f7f; text-decoration-color: #bf7f7f\">WARNING </span> Error Expecting value: line <span style=\"color: #008080; text-decoration-color: #008080; font-weight: bold\">1</span> column <span style=\"color: #008080; text-decoration-color: #008080; font-weight: bold\">1</span> <span style=\"font-weight: bold\">(</span>char <span style=\"color: #008080; text-decoration-color: #008080; font-weight: bold\">0</span><span style=\"font-weight: bold\">)</span> @ <span style=\"color: #008080; text-decoration-color: #008080; font-weight: bold\">37</span>::Traceback <span style=\"font-weight: bold\">(</span>most recent call last<span style=\"font-weight: bold\">)</span>:                                  <a href=\"file:///tmp/ipykernel_19763/3805582664.py:14\" target=\"_blank\"><span style=\"color: #7f7f7f; text-decoration-color: #7f7f7f\">3805582664.py</span></a><span style=\"color: #7f7f7f; text-decoration-color: #7f7f7f\">:</span><a href=\"file:///tmp/ipykernel_19763/3805582664.py:14#main:14\" target=\"_blank\"><span style=\"color: #7f7f7f; text-decoration-color: #7f7f7f\">main:14</span></a>\n",
       "<span style=\"color: #7fbfbf; text-decoration-color: #7fbfbf\">                    </span>           File <span style=\"color: #008000; text-decoration-color: #008000\">\"/tmp/ipykernel_19763/3805582664.py\"</span>, line <span style=\"color: #008080; text-decoration-color: #008080; font-weight: bold\">12</span>, in main                                                             <span style=\"color: #7f7f7f; text-decoration-color: #7f7f7f\">                     </span>\n",
       "<span style=\"color: #7fbfbf; text-decoration-color: #7fbfbf\">                    </span>             <span style=\"color: #800080; text-decoration-color: #800080; font-weight: bold\">write_json</span><span style=\"font-weight: bold\">(</span><span style=\"color: #800080; text-decoration-color: #800080; font-weight: bold\">json.loads</span><span style=\"font-weight: bold\">(</span>pred<span style=\"font-weight: bold\">)</span>, _to<span style=\"font-weight: bold\">)</span>                                                                                     <span style=\"color: #7f7f7f; text-decoration-color: #7f7f7f\">                     </span>\n",
       "<span style=\"color: #7fbfbf; text-decoration-color: #7fbfbf\">                    </span>                        ^^^^^^^^^^^^^^^^                                                                                           <span style=\"color: #7f7f7f; text-decoration-color: #7f7f7f\">                     </span>\n",
       "<span style=\"color: #7fbfbf; text-decoration-color: #7fbfbf\">                    </span>           File <span style=\"color: #008000; text-decoration-color: #008000\">\"/home/paperspace/miniconda3/envs/vlm/lib/python3.12/json/__init__.py\"</span>, line <span style=\"color: #008080; text-decoration-color: #008080; font-weight: bold\">346</span>, in loads                         <span style=\"color: #7f7f7f; text-decoration-color: #7f7f7f\">                     </span>\n",
       "<span style=\"color: #7fbfbf; text-decoration-color: #7fbfbf\">                    </span>             return <span style=\"color: #800080; text-decoration-color: #800080; font-weight: bold\">_default_decoder.decode</span><span style=\"font-weight: bold\">(</span>s<span style=\"font-weight: bold\">)</span>                                                                                     <span style=\"color: #7f7f7f; text-decoration-color: #7f7f7f\">                     </span>\n",
       "<span style=\"color: #7fbfbf; text-decoration-color: #7fbfbf\">                    </span>                    ^^^^^^^^^^^^^^^^^^^^^^^^^^                                                                                     <span style=\"color: #7f7f7f; text-decoration-color: #7f7f7f\">                     </span>\n",
       "<span style=\"color: #7fbfbf; text-decoration-color: #7fbfbf\">                    </span>           File <span style=\"color: #008000; text-decoration-color: #008000\">\"/home/paperspace/miniconda3/envs/vlm/lib/python3.12/json/decoder.py\"</span>, line <span style=\"color: #008080; text-decoration-color: #008080; font-weight: bold\">337</span>, in decode                         <span style=\"color: #7f7f7f; text-decoration-color: #7f7f7f\">                     </span>\n",
       "<span style=\"color: #7fbfbf; text-decoration-color: #7fbfbf\">                    </span>             obj, end = <span style=\"color: #800080; text-decoration-color: #800080; font-weight: bold\">self.raw_decode</span><span style=\"font-weight: bold\">(</span>s, <span style=\"color: #808000; text-decoration-color: #808000\">idx</span>=<span style=\"color: #800080; text-decoration-color: #800080; font-weight: bold\">_w</span><span style=\"font-weight: bold\">(</span>s, <span style=\"color: #008080; text-decoration-color: #008080; font-weight: bold\">0</span><span style=\"font-weight: bold\">)</span><span style=\"color: #800080; text-decoration-color: #800080; font-weight: bold\">.end</span><span style=\"font-weight: bold\">())</span>                                                                     <span style=\"color: #7f7f7f; text-decoration-color: #7f7f7f\">                     </span>\n",
       "<span style=\"color: #7fbfbf; text-decoration-color: #7fbfbf\">                    </span>                        ^^^^^^^^^^^^^^^^^^^^^^^^^^^^^^^^^^^^^^                                                                     <span style=\"color: #7f7f7f; text-decoration-color: #7f7f7f\">                     </span>\n",
       "<span style=\"color: #7fbfbf; text-decoration-color: #7fbfbf\">                    </span>           File <span style=\"color: #008000; text-decoration-color: #008000\">\"/home/paperspace/miniconda3/envs/vlm/lib/python3.12/json/decoder.py\"</span>, line <span style=\"color: #008080; text-decoration-color: #008080; font-weight: bold\">355</span>, in raw_decode                     <span style=\"color: #7f7f7f; text-decoration-color: #7f7f7f\">                     </span>\n",
       "<span style=\"color: #7fbfbf; text-decoration-color: #7fbfbf\">                    </span>             raise <span style=\"color: #800080; text-decoration-color: #800080; font-weight: bold\">JSONDecodeError</span><span style=\"font-weight: bold\">(</span><span style=\"color: #008000; text-decoration-color: #008000\">\"Expecting value\"</span>, s, err.value<span style=\"font-weight: bold\">)</span> from <span style=\"color: #800080; text-decoration-color: #800080; font-style: italic\">None</span>                                                      <span style=\"color: #7f7f7f; text-decoration-color: #7f7f7f\">                     </span>\n",
       "<span style=\"color: #7fbfbf; text-decoration-color: #7fbfbf\">                    </span>         json.decoder.JSONDecodeError: Expecting value: line <span style=\"color: #008080; text-decoration-color: #008080; font-weight: bold\">1</span> column <span style=\"color: #008080; text-decoration-color: #008080; font-weight: bold\">1</span> <span style=\"font-weight: bold\">(</span>char <span style=\"color: #008080; text-decoration-color: #008080; font-weight: bold\">0</span><span style=\"font-weight: bold\">)</span>                                                   <span style=\"color: #7f7f7f; text-decoration-color: #7f7f7f\">                     </span>\n",
       "<span style=\"color: #7fbfbf; text-decoration-color: #7fbfbf\">                    </span>                                                                                                                                   <span style=\"color: #7f7f7f; text-decoration-color: #7f7f7f\">                     </span>\n",
       "</pre>\n"
      ],
      "text/plain": [
       "\u001b[2;36m[09/22/24 16:45:36]\u001b[0m\u001b[2;36m \u001b[0m\u001b[2;31mWARNING \u001b[0m Error Expecting value: line \u001b[1;36m1\u001b[0m column \u001b[1;36m1\u001b[0m \u001b[1m(\u001b[0mchar \u001b[1;36m0\u001b[0m\u001b[1m)\u001b[0m @ \u001b[1;36m37\u001b[0m::Traceback \u001b[1m(\u001b[0mmost recent call last\u001b[1m)\u001b[0m:                                  \u001b]8;id=244322;file:///tmp/ipykernel_19763/3805582664.py:14\u001b\\\u001b[2m3805582664.py\u001b[0m\u001b]8;;\u001b\\\u001b[2m:\u001b[0m\u001b]8;id=637563;file:///tmp/ipykernel_19763/3805582664.py:14#main:14\u001b\\\u001b[2mmain:14\u001b[0m\u001b]8;;\u001b\\\n",
       "\u001b[2;36m                    \u001b[0m           File \u001b[32m\"/tmp/ipykernel_19763/3805582664.py\"\u001b[0m, line \u001b[1;36m12\u001b[0m, in main                                                             \u001b[2m                     \u001b[0m\n",
       "\u001b[2;36m                    \u001b[0m             \u001b[1;35mwrite_json\u001b[0m\u001b[1m(\u001b[0m\u001b[1;35mjson.loads\u001b[0m\u001b[1m(\u001b[0mpred\u001b[1m)\u001b[0m, _to\u001b[1m)\u001b[0m                                                                                     \u001b[2m                     \u001b[0m\n",
       "\u001b[2;36m                    \u001b[0m                        ^^^^^^^^^^^^^^^^                                                                                           \u001b[2m                     \u001b[0m\n",
       "\u001b[2;36m                    \u001b[0m           File \u001b[32m\"/home/paperspace/miniconda3/envs/vlm/lib/python3.12/json/__init__.py\"\u001b[0m, line \u001b[1;36m346\u001b[0m, in loads                         \u001b[2m                     \u001b[0m\n",
       "\u001b[2;36m                    \u001b[0m             return \u001b[1;35m_default_decoder.decode\u001b[0m\u001b[1m(\u001b[0ms\u001b[1m)\u001b[0m                                                                                     \u001b[2m                     \u001b[0m\n",
       "\u001b[2;36m                    \u001b[0m                    ^^^^^^^^^^^^^^^^^^^^^^^^^^                                                                                     \u001b[2m                     \u001b[0m\n",
       "\u001b[2;36m                    \u001b[0m           File \u001b[32m\"/home/paperspace/miniconda3/envs/vlm/lib/python3.12/json/decoder.py\"\u001b[0m, line \u001b[1;36m337\u001b[0m, in decode                         \u001b[2m                     \u001b[0m\n",
       "\u001b[2;36m                    \u001b[0m             obj, end = \u001b[1;35mself.raw_decode\u001b[0m\u001b[1m(\u001b[0ms, \u001b[33midx\u001b[0m=\u001b[1;35m_w\u001b[0m\u001b[1m(\u001b[0ms, \u001b[1;36m0\u001b[0m\u001b[1m)\u001b[0m\u001b[1;35m.end\u001b[0m\u001b[1m(\u001b[0m\u001b[1m)\u001b[0m\u001b[1m)\u001b[0m                                                                     \u001b[2m                     \u001b[0m\n",
       "\u001b[2;36m                    \u001b[0m                        ^^^^^^^^^^^^^^^^^^^^^^^^^^^^^^^^^^^^^^                                                                     \u001b[2m                     \u001b[0m\n",
       "\u001b[2;36m                    \u001b[0m           File \u001b[32m\"/home/paperspace/miniconda3/envs/vlm/lib/python3.12/json/decoder.py\"\u001b[0m, line \u001b[1;36m355\u001b[0m, in raw_decode                     \u001b[2m                     \u001b[0m\n",
       "\u001b[2;36m                    \u001b[0m             raise \u001b[1;35mJSONDecodeError\u001b[0m\u001b[1m(\u001b[0m\u001b[32m\"Expecting value\"\u001b[0m, s, err.value\u001b[1m)\u001b[0m from \u001b[3;35mNone\u001b[0m                                                      \u001b[2m                     \u001b[0m\n",
       "\u001b[2;36m                    \u001b[0m         json.decoder.JSONDecodeError: Expecting value: line \u001b[1;36m1\u001b[0m column \u001b[1;36m1\u001b[0m \u001b[1m(\u001b[0mchar \u001b[1;36m0\u001b[0m\u001b[1m)\u001b[0m                                                   \u001b[2m                     \u001b[0m\n",
       "\u001b[2;36m                    \u001b[0m                                                                                                                                   \u001b[2m                     \u001b[0m\n"
      ]
     },
     "metadata": {},
     "output_type": "display_data"
    },
    {
     "name": "stdout",
     "output_type": "stream",
     "text": [
      "50/347 (136.80s - 812.57s remaining - 2.74 s/iter)          \r"
     ]
    },
    {
     "data": {
      "text/html": [
       "<pre style=\"white-space:pre;overflow-x:auto;line-height:normal;font-family:Menlo,'DejaVu Sans Mono',consolas,'Courier New',monospace\"><span style=\"color: #7fbfbf; text-decoration-color: #7fbfbf\">[09/22/24 16:46:20] </span><span style=\"color: #bfbf7f; text-decoration-color: #bfbf7f\">INFO    </span> Breaking Early                                                                                                            <a href=\"file:///tmp/ipykernel_19763/3805582664.py:16\" target=\"_blank\"><span style=\"color: #7f7f7f; text-decoration-color: #7f7f7f\">3805582664.py</span></a><span style=\"color: #7f7f7f; text-decoration-color: #7f7f7f\">:</span><a href=\"file:///tmp/ipykernel_19763/3805582664.py:16#main:16\" target=\"_blank\"><span style=\"color: #7f7f7f; text-decoration-color: #7f7f7f\">main:16</span></a>\n",
       "</pre>\n"
      ],
      "text/plain": [
       "\u001b[2;36m[09/22/24 16:46:20]\u001b[0m\u001b[2;36m \u001b[0m\u001b[2;33mINFO    \u001b[0m Breaking Early                                                                                                            \u001b]8;id=857824;file:///tmp/ipykernel_19763/3805582664.py:16\u001b\\\u001b[2m3805582664.py\u001b[0m\u001b]8;;\u001b\\\u001b[2m:\u001b[0m\u001b]8;id=921152;file:///tmp/ipykernel_19763/3805582664.py:16#main:16\u001b\\\u001b[2mmain:16\u001b[0m\u001b]8;;\u001b\\\n"
      ]
     },
     "metadata": {},
     "output_type": "display_data"
    }
   ],
   "source": [
    "import json, traceback\n",
    "\n",
    "def main(ds, vlm, prompt, db_folder, n=None):\n",
    "    n = len(ds) if n is None else n\n",
    "    for ix,x in E(track2(ds)):\n",
    "        _to = db_folder/f'{ix}.json'\n",
    "        if exists(_to): continue\n",
    "        makedir(parent(_to))\n",
    "        x = AD(x)\n",
    "        pred = vlm(x.images, prompt=prompt).lstrip('```json').rstrip('```')\n",
    "        try:\n",
    "            write_json(json.loads(pred), _to)\n",
    "        except Exception as e:\n",
    "            Warn(f'Error {e} @ {ix}::{traceback.format_exc()}')\n",
    "        if ix >= n:\n",
    "            Info('Breaking Early')\n",
    "            break\n",
    "\n",
    "main(ds, gpt, prompt, db_folder=gpt_db, n=50)"
   ]
  },
  {
   "cell_type": "code",
   "execution_count": null,
   "id": "b175a6f3-c815-40de-ac19-70b7454b4b1c",
   "metadata": {},
   "outputs": [],
   "source": []
  }
 ],
 "metadata": {
  "kernelspec": {
   "display_name": "vlm",
   "language": "python",
   "name": "vlm"
  },
  "language_info": {
   "codemirror_mode": {
    "name": "ipython",
    "version": 3
   },
   "file_extension": ".py",
   "mimetype": "text/x-python",
   "name": "python",
   "nbconvert_exporter": "python",
   "pygments_lexer": "ipython3",
   "version": "3.12.5"
  }
 },
 "nbformat": 4,
 "nbformat_minor": 5
}
